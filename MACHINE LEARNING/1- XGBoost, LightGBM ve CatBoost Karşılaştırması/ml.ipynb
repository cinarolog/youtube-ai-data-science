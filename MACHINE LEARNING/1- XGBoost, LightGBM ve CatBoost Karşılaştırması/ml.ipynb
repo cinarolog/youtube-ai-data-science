{
 "cells": [
  {
   "cell_type": "code",
   "execution_count": 1,
   "id": "7faa3d14",
   "metadata": {},
   "outputs": [],
   "source": [
    "import pandas as pd \n",
    "import numpy as np \n",
    "from sklearn.datasets import make_classification \n",
    "from sklearn.model_selection import train_test_split\n",
    "from sklearn.metrics import accuracy_score\n",
    "import time \n",
    "\n",
    "from xgboost import XGBClassifier\n",
    "from lightgbm import LGBMClassifier \n",
    "from catboost import CatBoostClassifier"
   ]
  },
  {
   "cell_type": "code",
   "execution_count": 2,
   "id": "c7aa92a1",
   "metadata": {},
   "outputs": [
    {
     "data": {
      "text/plain": [
       "(10000, 20)"
      ]
     },
     "execution_count": 2,
     "metadata": {},
     "output_type": "execute_result"
    }
   ],
   "source": [
    "\n",
    "X,y = make_classification(\n",
    "\n",
    "    n_samples=10000,\n",
    "    n_features=20,\n",
    "    n_informative=15,\n",
    "    n_redundant=5,\n",
    "    random_state=1\n",
    ")\n",
    "\n",
    "\n",
    "X_train,X_test,y_train,y_test=train_test_split(X,y,test_size=0.2,random_state=1)\n",
    "\n",
    "X.shape\n",
    "\n"
   ]
  },
  {
   "cell_type": "code",
   "execution_count": 3,
   "id": "842f6200",
   "metadata": {},
   "outputs": [
    {
     "data": {
      "text/plain": [
       "(8000, 20)"
      ]
     },
     "execution_count": 3,
     "metadata": {},
     "output_type": "execute_result"
    }
   ],
   "source": [
    "X_train.shape"
   ]
  },
  {
   "cell_type": "code",
   "execution_count": 5,
   "id": "adac7a7b",
   "metadata": {},
   "outputs": [
    {
     "data": {
      "text/plain": [
       "(2000, 20)"
      ]
     },
     "execution_count": 5,
     "metadata": {},
     "output_type": "execute_result"
    }
   ],
   "source": [
    "X_test.shape"
   ]
  },
  {
   "cell_type": "code",
   "execution_count": 23,
   "id": "f7f1b467",
   "metadata": {},
   "outputs": [
    {
     "name": "stdout",
     "output_type": "stream",
     "text": [
      "XGBoost Accuracy  0.962\n",
      "Training Time : 0.13\n"
     ]
    }
   ],
   "source": [
    "xgb_model=XGBClassifier(use_label_encoder=False,eval_metrics=\"logloss\")\n",
    "start=time.time()\n",
    "xgb_model.fit(X_train,y_train)\n",
    "end=time.time() \n",
    "\n",
    "time1=end-start\n",
    "\n",
    "y_pred_xgb=xgb_model.predict(X_test)\n",
    "acc_xgb=accuracy_score(y_test,y_pred_xgb) \n",
    "\n",
    "print( \"XGBoost Accuracy \", acc_xgb)\n",
    "print(\"Training Time :\",round(time1,2))"
   ]
  },
  {
   "cell_type": "code",
   "execution_count": 24,
   "id": "011ecdf1",
   "metadata": {},
   "outputs": [
    {
     "name": "stdout",
     "output_type": "stream",
     "text": [
      "LGBM Accuracy  0.9505\n",
      "Training Time : 0.08\n"
     ]
    },
    {
     "name": "stderr",
     "output_type": "stream",
     "text": [
      "c:\\Users\\cinar\\Desktop\\Yeni klasör\\machine-laearning\\venv\\Lib\\site-packages\\sklearn\\utils\\validation.py:2749: UserWarning: X does not have valid feature names, but LGBMClassifier was fitted with feature names\n",
      "  warnings.warn(\n"
     ]
    }
   ],
   "source": [
    "lgb_model=LGBMClassifier()\n",
    "start=time.time()\n",
    "lgb_model.fit(X_train,y_train)\n",
    "end=time.time() \n",
    "time2=end-start \n",
    "\n",
    "y_pred_xgb=lgb_model.predict(X_test)\n",
    "acc_lgbm=accuracy_score(y_test,y_pred_xgb) \n",
    "\n",
    "print( \"LGBM Accuracy \", acc_lgbm)\n",
    "print(\"Training Time :\",round(time2,2))\n"
   ]
  },
  {
   "cell_type": "code",
   "execution_count": 25,
   "id": "855751d2",
   "metadata": {},
   "outputs": [
    {
     "name": "stdout",
     "output_type": "stream",
     "text": [
      "Catboost Accuracy  0.97\n",
      "Training Time : 3.65\n"
     ]
    }
   ],
   "source": [
    "cat_model=CatBoostClassifier(verbose=0)\n",
    "\n",
    "start=time.time()\n",
    "\n",
    "cat_model.fit(X_train,y_train)\n",
    "end=time.time()\n",
    "time3=end-start \n",
    "\n",
    "y_pred_cat=cat_model.predict(X_test)\n",
    "acc_cat=accuracy_score(y_test,y_pred_cat)\n",
    "\n",
    "print( \"Catboost Accuracy \", acc_cat)\n",
    "print(\"Training Time :\",round(time3,2))\n"
   ]
  },
  {
   "cell_type": "code",
   "execution_count": 27,
   "id": "b84d3dff",
   "metadata": {},
   "outputs": [],
   "source": [
    "results=pd.DataFrame({\n",
    "\n",
    "        \"model\":[\"Xgboost\", \"Lightgbm\", \"Catboost\"],\n",
    "        \"Accuracy\": [acc_xgb,acc_lgbm,acc_cat],\n",
    "        \"Training Times\": [time1,time2,time3]\n",
    "\n",
    "})"
   ]
  },
  {
   "cell_type": "code",
   "execution_count": 28,
   "id": "96f25a6d",
   "metadata": {},
   "outputs": [
    {
     "data": {
      "text/html": [
       "<div>\n",
       "<style scoped>\n",
       "    .dataframe tbody tr th:only-of-type {\n",
       "        vertical-align: middle;\n",
       "    }\n",
       "\n",
       "    .dataframe tbody tr th {\n",
       "        vertical-align: top;\n",
       "    }\n",
       "\n",
       "    .dataframe thead th {\n",
       "        text-align: right;\n",
       "    }\n",
       "</style>\n",
       "<table border=\"1\" class=\"dataframe\">\n",
       "  <thead>\n",
       "    <tr style=\"text-align: right;\">\n",
       "      <th></th>\n",
       "      <th>model</th>\n",
       "      <th>Accuracy</th>\n",
       "      <th>Training Times</th>\n",
       "    </tr>\n",
       "  </thead>\n",
       "  <tbody>\n",
       "    <tr>\n",
       "      <th>0</th>\n",
       "      <td>Xgboost</td>\n",
       "      <td>0.9620</td>\n",
       "      <td>0.130099</td>\n",
       "    </tr>\n",
       "    <tr>\n",
       "      <th>1</th>\n",
       "      <td>Lightgbm</td>\n",
       "      <td>0.9505</td>\n",
       "      <td>0.082056</td>\n",
       "    </tr>\n",
       "    <tr>\n",
       "      <th>2</th>\n",
       "      <td>Catboost</td>\n",
       "      <td>0.9700</td>\n",
       "      <td>3.646025</td>\n",
       "    </tr>\n",
       "  </tbody>\n",
       "</table>\n",
       "</div>"
      ],
      "text/plain": [
       "      model  Accuracy  Training Times\n",
       "0   Xgboost    0.9620        0.130099\n",
       "1  Lightgbm    0.9505        0.082056\n",
       "2  Catboost    0.9700        3.646025"
      ]
     },
     "execution_count": 28,
     "metadata": {},
     "output_type": "execute_result"
    }
   ],
   "source": [
    "results"
   ]
  },
  {
   "cell_type": "code",
   "execution_count": null,
   "id": "f31f8fca",
   "metadata": {},
   "outputs": [],
   "source": []
  },
  {
   "cell_type": "code",
   "execution_count": null,
   "id": "e40624ea",
   "metadata": {},
   "outputs": [],
   "source": []
  }
 ],
 "metadata": {
  "kernelspec": {
   "display_name": "venv",
   "language": "python",
   "name": "python3"
  },
  "language_info": {
   "codemirror_mode": {
    "name": "ipython",
    "version": 3
   },
   "file_extension": ".py",
   "mimetype": "text/x-python",
   "name": "python",
   "nbconvert_exporter": "python",
   "pygments_lexer": "ipython3",
   "version": "3.11.9"
  }
 },
 "nbformat": 4,
 "nbformat_minor": 5
}
