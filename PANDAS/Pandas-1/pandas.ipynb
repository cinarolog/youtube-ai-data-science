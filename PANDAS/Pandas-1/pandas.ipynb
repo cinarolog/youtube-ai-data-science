{
 "cells": [
  {
   "cell_type": "code",
   "execution_count": null,
   "id": "4f91bfca",
   "metadata": {},
   "outputs": [],
   "source": [
    "import pandas as pd\n",
    "import numpy as np\n",
    "\n"
   ]
  },
  {
   "cell_type": "code",
   "execution_count": null,
   "id": "c42f465c",
   "metadata": {},
   "outputs": [],
   "source": [
    "np.random.seed(42)\n",
    "data = np.random.randn(100, 4)\n"
   ]
  },
  {
   "cell_type": "code",
   "execution_count": null,
   "id": "df16b5a7",
   "metadata": {},
   "outputs": [],
   "source": [
    "columns = ['A', 'B', 'C', 'D']\n",
    "df = pd.DataFrame(data, columns=columns)\n"
   ]
  },
  {
   "cell_type": "code",
   "execution_count": null,
   "id": "44502f9c",
   "metadata": {},
   "outputs": [],
   "source": [
    "\n",
    "df.head()\n",
    "df.head(10)\n",
    "df.tail()\n",
    "df.tail(3)\n",
    "\n",
    "\n"
   ]
  },
  {
   "cell_type": "code",
   "execution_count": null,
   "id": "fb537f3a",
   "metadata": {},
   "outputs": [],
   "source": [
    "\n",
    "df.info()\n",
    "print(\"Veri setinin boyutu:\", df.shape)\n",
    "print(\"Sütun isimleri:\", df.columns)\n",
    "\n"
   ]
  },
  {
   "cell_type": "code",
   "execution_count": null,
   "id": "531b2bd8",
   "metadata": {},
   "outputs": [],
   "source": [
    "print(\"Sütun veri tipleri:\")\n",
    "print(df.dtypes)\n"
   ]
  },
  {
   "cell_type": "code",
   "execution_count": null,
   "id": "edb0f3f7",
   "metadata": {},
   "outputs": [],
   "source": [
    "print(\"Index bilgisi:\")\n",
    "print(df.index)\n",
    "print(\"Veri setinin NumPy array hali:\")\n",
    "print(df.values)\n",
    "\n",
    "\n"
   ]
  },
  {
   "cell_type": "code",
   "execution_count": null,
   "id": "23c50c8b",
   "metadata": {},
   "outputs": [],
   "source": [
    "df.describe()"
   ]
  },
  {
   "cell_type": "code",
   "execution_count": null,
   "id": "dee102fd",
   "metadata": {},
   "outputs": [],
   "source": [
    "print(\"Bellek kullanımı (byte):\")\n",
    "print(df.memory_usage())"
   ]
  },
  {
   "cell_type": "code",
   "execution_count": null,
   "id": "9654bfe2",
   "metadata": {},
   "outputs": [],
   "source": []
  },
  {
   "cell_type": "code",
   "execution_count": null,
   "id": "45a82eaf",
   "metadata": {},
   "outputs": [],
   "source": []
  },
  {
   "cell_type": "code",
   "execution_count": null,
   "id": "bc2fed87",
   "metadata": {},
   "outputs": [],
   "source": []
  },
  {
   "cell_type": "code",
   "execution_count": null,
   "id": "865dbf1f",
   "metadata": {},
   "outputs": [],
   "source": []
  }
 ],
 "metadata": {
  "kernelspec": {
   "display_name": "Python 3",
   "language": "python",
   "name": "python3"
  },
  "language_info": {
   "codemirror_mode": {
    "name": "ipython",
    "version": 3
   },
   "file_extension": ".py",
   "mimetype": "text/x-python",
   "name": "python",
   "nbconvert_exporter": "python",
   "pygments_lexer": "ipython3",
   "version": "3.11.9"
  }
 },
 "nbformat": 4,
 "nbformat_minor": 5
}
