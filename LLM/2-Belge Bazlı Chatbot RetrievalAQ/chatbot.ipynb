{
 "cells": [
  {
   "cell_type": "code",
   "execution_count": 3,
   "id": "858f2ae5",
   "metadata": {},
   "outputs": [],
   "source": [
    "import os\n",
    "from dotenv import load_dotenv\n",
    "from langchain.document_loaders import PyPDFLoader\n",
    "from langchain.text_splitter import RecursiveCharacterTextSplitter\n",
    "from langchain.embeddings import OpenAIEmbeddings\n",
    "from langchain.vectorstores import FAISS\n",
    "from langchain.chat_models import ChatOpenAI\n",
    "from langchain.chains import RetrievalQA\n"
   ]
  },
  {
   "cell_type": "code",
   "execution_count": 4,
   "id": "a0513d6a",
   "metadata": {},
   "outputs": [],
   "source": [
    "load_dotenv()\n",
    "api_key=os.getenv(\"OPENAI_API_KEY\")\n",
    "\n",
    "if not api_key:\n",
    "    raise ValueError( \" openaı apıkey bulunamadı \")\n",
    "\n"
   ]
  },
  {
   "cell_type": "code",
   "execution_count": 6,
   "id": "eca1f7a3",
   "metadata": {},
   "outputs": [
    {
     "name": "stdout",
     "output_type": "stream",
     "text": [
      "Toplam 21 sayfa yüklendi\n"
     ]
    }
   ],
   "source": [
    "loader= PyPDFLoader(\"sql.pdf\")\n",
    "documents=loader.load() \n",
    "print(f\"Toplam {len(documents)} sayfa yüklendi\")"
   ]
  },
  {
   "cell_type": "code",
   "execution_count": 7,
   "id": "8119d28f",
   "metadata": {},
   "outputs": [
    {
     "name": "stdout",
     "output_type": "stream",
     "text": [
      " Belge 27 parçaya ayrıldı \n"
     ]
    }
   ],
   "source": [
    "text_splitter=RecursiveCharacterTextSplitter(chunk_size=500,chunk_overlap=50)\n",
    "docs=text_splitter.split_documents(documents)\n",
    "\n",
    "print(f\" Belge {len(docs)} parçaya ayrıldı \")"
   ]
  },
  {
   "cell_type": "code",
   "execution_count": 8,
   "id": "b4131ce1",
   "metadata": {},
   "outputs": [
    {
     "name": "stderr",
     "output_type": "stream",
     "text": [
      "C:\\Users\\cinar\\AppData\\Local\\Temp\\ipykernel_15012\\1730654174.py:1: LangChainDeprecationWarning: The class `OpenAIEmbeddings` was deprecated in LangChain 0.0.9 and will be removed in 1.0. An updated version of the class exists in the :class:`~langchain-openai package and should be used instead. To use it run `pip install -U :class:`~langchain-openai` and import as `from :class:`~langchain_openai import OpenAIEmbeddings``.\n",
      "  embeddings=OpenAIEmbeddings()\n"
     ]
    },
    {
     "name": "stdout",
     "output_type": "stream",
     "text": [
      "Belgeler faiss vektor tabanına kaydedidi\n"
     ]
    }
   ],
   "source": [
    "embeddings=OpenAIEmbeddings()\n",
    "vectorstore=FAISS.from_documents(docs,embeddings)\n",
    "print(\"Belgeler faiss vektor tabanına kaydedidi\")"
   ]
  },
  {
   "cell_type": "code",
   "execution_count": 9,
   "id": "bdac0007",
   "metadata": {},
   "outputs": [
    {
     "name": "stderr",
     "output_type": "stream",
     "text": [
      "C:\\Users\\cinar\\AppData\\Local\\Temp\\ipykernel_15012\\3573841879.py:1: LangChainDeprecationWarning: The class `ChatOpenAI` was deprecated in LangChain 0.0.10 and will be removed in 1.0. An updated version of the class exists in the :class:`~langchain-openai package and should be used instead. To use it run `pip install -U :class:`~langchain-openai` and import as `from :class:`~langchain_openai import ChatOpenAI``.\n",
      "  llm=ChatOpenAI(model=\"gpt-3.5-turbo\")\n"
     ]
    },
    {
     "name": "stdout",
     "output_type": "stream",
     "text": [
      "RetrievalQA zinciri hazır\n"
     ]
    }
   ],
   "source": [
    "llm=ChatOpenAI(model=\"gpt-3.5-turbo\")\n",
    "\n",
    "qa_chain=RetrievalQA.from_chain_type(\n",
    "llm=llm,\n",
    "retriever=vectorstore.as_retriever(),\n",
    "chain_type=\"stuff\"\n",
    "\n",
    ")\n",
    "\n",
    "print(\"RetrievalQA zinciri hazır\")"
   ]
  },
  {
   "cell_type": "code",
   "execution_count": 10,
   "id": "86395447",
   "metadata": {},
   "outputs": [
    {
     "name": "stderr",
     "output_type": "stream",
     "text": [
      "C:\\Users\\cinar\\AppData\\Local\\Temp\\ipykernel_15012\\2223377430.py:2: LangChainDeprecationWarning: The method `Chain.run` was deprecated in langchain 0.1.0 and will be removed in 1.0. Use :meth:`~invoke` instead.\n",
      "  answer=qa_chain.run(query)\n"
     ]
    },
    {
     "name": "stdout",
     "output_type": "stream",
     "text": [
      "soru:  Bu belge ne var hangi konular var\n",
      "cevap:  Bu belgede \"Veritabanı Nedir?\", \"Gömülü SQL ifadeleri\" ve \"Veri Bütünlüğü\" konuları bulunmaktadır.\n"
     ]
    }
   ],
   "source": [
    "query=\"Bu belge ne var hangi konular var\"\n",
    "answer=qa_chain.run(query)\n",
    "\n",
    "print(\"soru: \",query)\n",
    "print(\"cevap: \",answer)"
   ]
  },
  {
   "cell_type": "code",
   "execution_count": 13,
   "id": "232326fd",
   "metadata": {},
   "outputs": [
    {
     "name": "stdout",
     "output_type": "stream",
     "text": [
      "cevap Belgede veritabanı, veri erişimi, veritabanı alan yönetimi, veri bütünlüğü, gömülü SQL ifadeleri ve Oracle Veritabanı konuları bulunmaktadır. Ayrıca \"Bölüm-5 - Gömülü SQL ifadeleri\" başlığı altında SQL'e giriş konusu da yer almaktadır.\n",
      "cevap Veri erişimi, ilişkisel veri tabanlarında veri tabanına erişmek ve veri tabanındaki verileri yönetmek için kullanılan işlemleri ifade eder. Bu işlemler genellikle Structured Query Language (SQL) dili kullanılarak gerçekleştirilir. Veri erişimi, veri tabanındaki tüm işlemleri SQL komutları aracılığıyla yapmayı içerir. Bu komutlar genellikle veri tanımlama, veri değiştirme, veritabanı hareketi kontrolü, oturum kontrolü, sistem kontrolü ve gömülü SQL ifadeleri olmak üzere altı kategoriye ayrılır.\n"
     ]
    }
   ],
   "source": [
    "while True:\n",
    "\n",
    "    query=input(\"Soru :\")\n",
    "    if query.lower() in [\"exit\",\"quit\",\"cikis\"]:\n",
    "        break \n",
    "    answer=qa_chain.run(query)\n",
    "    print(\"cevap\",answer)\n",
    "\n",
    "\n",
    "\n"
   ]
  },
  {
   "cell_type": "code",
   "execution_count": null,
   "id": "4ee12621",
   "metadata": {},
   "outputs": [],
   "source": []
  },
  {
   "cell_type": "code",
   "execution_count": null,
   "id": "cefa34ec",
   "metadata": {},
   "outputs": [],
   "source": []
  },
  {
   "cell_type": "code",
   "execution_count": null,
   "id": "f8963e00",
   "metadata": {},
   "outputs": [],
   "source": []
  },
  {
   "cell_type": "code",
   "execution_count": null,
   "id": "9a871b84",
   "metadata": {},
   "outputs": [],
   "source": []
  },
  {
   "cell_type": "code",
   "execution_count": null,
   "id": "de2983f5",
   "metadata": {},
   "outputs": [],
   "source": []
  }
 ],
 "metadata": {
  "kernelspec": {
   "display_name": "venv",
   "language": "python",
   "name": "python3"
  },
  "language_info": {
   "codemirror_mode": {
    "name": "ipython",
    "version": 3
   },
   "file_extension": ".py",
   "mimetype": "text/x-python",
   "name": "python",
   "nbconvert_exporter": "python",
   "pygments_lexer": "ipython3",
   "version": "3.11.9"
  }
 },
 "nbformat": 4,
 "nbformat_minor": 5
}
