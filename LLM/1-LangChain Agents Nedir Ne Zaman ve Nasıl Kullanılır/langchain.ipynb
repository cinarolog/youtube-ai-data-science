{
 "cells": [
  {
   "cell_type": "code",
   "execution_count": 1,
   "id": "cc86dc5d",
   "metadata": {},
   "outputs": [
    {
     "data": {
      "text/plain": [
       "True"
      ]
     },
     "execution_count": 1,
     "metadata": {},
     "output_type": "execute_result"
    }
   ],
   "source": [
    "from langchain.agents import Tool, initialize_agent\n",
    "from langchain.llms import OpenAI\n",
    "from langchain.utilities import DuckDuckGoSearchAPIWrapper\n",
    "from dotenv import load_dotenv\n",
    "\n",
    "load_dotenv()  "
   ]
  },
  {
   "cell_type": "code",
   "execution_count": 2,
   "id": "5e1ca75e",
   "metadata": {},
   "outputs": [
    {
     "name": "stderr",
     "output_type": "stream",
     "text": [
      "C:\\Users\\cinar\\AppData\\Local\\Temp\\ipykernel_21160\\3916809850.py:1: LangChainDeprecationWarning: The class `OpenAI` was deprecated in LangChain 0.0.10 and will be removed in 1.0. An updated version of the class exists in the :class:`~langchain-openai package and should be used instead. To use it run `pip install -U :class:`~langchain-openai` and import as `from :class:`~langchain_openai import OpenAI``.\n",
      "  llm=OpenAI(temperature=0)\n"
     ]
    }
   ],
   "source": [
    "llm=OpenAI(temperature=0)"
   ]
  },
  {
   "cell_type": "code",
   "execution_count": 3,
   "id": "c6b5888c",
   "metadata": {},
   "outputs": [],
   "source": [
    "search = DuckDuckGoSearchAPIWrapper()"
   ]
  },
  {
   "cell_type": "code",
   "execution_count": 4,
   "id": "b6bd3e60",
   "metadata": {},
   "outputs": [],
   "source": [
    "search_tool = Tool(\n",
    "    name=\"DuckDuckGo Search\",\n",
    "    func=search.run,\n",
    "    description=\"İnternette bilgi aramak için kullanılır\"\n",
    ")"
   ]
  },
  {
   "cell_type": "code",
   "execution_count": 5,
   "id": "fb7c33de",
   "metadata": {},
   "outputs": [],
   "source": [
    "from langchain.agents import AgentType"
   ]
  },
  {
   "cell_type": "code",
   "execution_count": 6,
   "id": "368b2e11",
   "metadata": {},
   "outputs": [
    {
     "name": "stderr",
     "output_type": "stream",
     "text": [
      "C:\\Users\\cinar\\AppData\\Local\\Temp\\ipykernel_21160\\2802931538.py:1: LangChainDeprecationWarning: LangChain agents will continue to be supported, but it is recommended for new use cases to be built with LangGraph. LangGraph offers a more flexible and full-featured framework for building agents, including support for tool-calling, persistence of state, and human-in-the-loop workflows. For details, refer to the `LangGraph documentation <https://langchain-ai.github.io/langgraph/>`_ as well as guides for `Migrating from AgentExecutor <https://python.langchain.com/docs/how_to/migrate_agent/>`_ and LangGraph's `Pre-built ReAct agent <https://langchain-ai.github.io/langgraph/how-tos/create-react-agent/>`_.\n",
      "  agent=initialize_agent(\n"
     ]
    }
   ],
   "source": [
    "agent=initialize_agent(\n",
    "\n",
    "    tools=[search_tool],\n",
    "    llm=llm,\n",
    "    agent=AgentType.ZERO_SHOT_REACT_DESCRIPTION,\n",
    "    verbose=True\n",
    ")"
   ]
  },
  {
   "cell_type": "code",
   "execution_count": 7,
   "id": "2ebbe6a7",
   "metadata": {},
   "outputs": [
    {
     "name": "stderr",
     "output_type": "stream",
     "text": [
      "C:\\Users\\cinar\\AppData\\Local\\Temp\\ipykernel_21160\\2848086558.py:1: LangChainDeprecationWarning: The method `Chain.run` was deprecated in langchain 0.1.0 and will be removed in 1.0. Use :meth:`~invoke` instead.\n",
      "  response =agent.run(\"İstanbulun fethi ?\")\n"
     ]
    },
    {
     "name": "stdout",
     "output_type": "stream",
     "text": [
      "\n",
      "\n",
      "\u001b[1m> Entering new AgentExecutor chain...\u001b[0m\n",
      "\u001b[32;1m\u001b[1;3m İstanbulun fethi hakkında bilgi edinmek istiyorum\n",
      "Action: DuckDuckGo Search\n",
      "Action Input: \"İstanbulun fethi\"\u001b[0m"
     ]
    },
    {
     "name": "stderr",
     "output_type": "stream",
     "text": [
      "c:\\Users\\cinar\\Desktop\\test\\langchain\\venv\\Lib\\site-packages\\langchain_community\\utilities\\duckduckgo_search.py:63: RuntimeWarning: This package (`duckduckgo_search`) has been renamed to `ddgs`! Use `pip install ddgs` instead.\n",
      "  with DDGS() as ddgs:\n"
     ]
    },
    {
     "name": "stdout",
     "output_type": "stream",
     "text": [
      "\n",
      "Observation: \u001b[36;1m\u001b[1;3mNo good DuckDuckGo Search Result was found\u001b[0m\n",
      "Thought:"
     ]
    },
    {
     "name": "stderr",
     "output_type": "stream",
     "text": [
      "c:\\Users\\cinar\\Desktop\\test\\langchain\\venv\\Lib\\site-packages\\langchain_community\\llms\\openai.py:469: PydanticDeprecatedSince20: The `dict` method is deprecated; use `model_dump` instead. Deprecated in Pydantic V2.0 to be removed in V3.0. See Pydantic V2 Migration Guide at https://errors.pydantic.dev/2.11/migration/\n",
      "  response = response.dict()\n"
     ]
    },
    {
     "name": "stdout",
     "output_type": "stream",
     "text": [
      "\u001b[32;1m\u001b[1;3m Maybe I should try a different search engine\n",
      "Action: Google Search\n",
      "Action Input: \"İstanbulun fethi\"\u001b[0m\n",
      "Observation: Google Search is not a valid tool, try one of [DuckDuckGo Search].\n",
      "Thought:"
     ]
    },
    {
     "name": "stderr",
     "output_type": "stream",
     "text": [
      "c:\\Users\\cinar\\Desktop\\test\\langchain\\venv\\Lib\\site-packages\\langchain_community\\llms\\openai.py:469: PydanticDeprecatedSince20: The `dict` method is deprecated; use `model_dump` instead. Deprecated in Pydantic V2.0 to be removed in V3.0. See Pydantic V2 Migration Guide at https://errors.pydantic.dev/2.11/migration/\n",
      "  response = response.dict()\n",
      "c:\\Users\\cinar\\Desktop\\test\\langchain\\venv\\Lib\\site-packages\\langchain_community\\utilities\\duckduckgo_search.py:63: RuntimeWarning: This package (`duckduckgo_search`) has been renamed to `ddgs`! Use `pip install ddgs` instead.\n",
      "  with DDGS() as ddgs:\n"
     ]
    },
    {
     "name": "stdout",
     "output_type": "stream",
     "text": [
      "\u001b[32;1m\u001b[1;3m I should try using a more specific query\n",
      "Action: DuckDuckGo Search\n",
      "Action Input: \"Conquest of Istanbul\"\u001b[0m\n",
      "Observation: \u001b[36;1m\u001b[1;3mWith YouTube Premium, enjoy ad-free access, downloads, and background play on YouTube and YouTube Music. The meaning of PREMIUM is a reward or recompense for a particular act. How to use premium in a sentence. You get a lipstick as a premium with the purchase of this makeup. Our customers are willing to pay a premium for a … Spotify Premium is a digital music service that gives you access to ad-free music listening of millions of songs. Premium definition: a prize, bonus, or award given as an inducement, as to purchase products, enter competitions …\u001b[0m\n",
      "Thought:"
     ]
    },
    {
     "name": "stderr",
     "output_type": "stream",
     "text": [
      "c:\\Users\\cinar\\Desktop\\test\\langchain\\venv\\Lib\\site-packages\\langchain_community\\llms\\openai.py:469: PydanticDeprecatedSince20: The `dict` method is deprecated; use `model_dump` instead. Deprecated in Pydantic V2.0 to be removed in V3.0. See Pydantic V2 Migration Guide at https://errors.pydantic.dev/2.11/migration/\n",
      "  response = response.dict()\n",
      "c:\\Users\\cinar\\Desktop\\test\\langchain\\venv\\Lib\\site-packages\\langchain_community\\utilities\\duckduckgo_search.py:63: RuntimeWarning: This package (`duckduckgo_search`) has been renamed to `ddgs`! Use `pip install ddgs` instead.\n",
      "  with DDGS() as ddgs:\n"
     ]
    },
    {
     "name": "stdout",
     "output_type": "stream",
     "text": [
      "\u001b[32;1m\u001b[1;3m This is not the information I am looking for\n",
      "Action: DuckDuckGo Search\n",
      "Action Input: \"Conquest of Constantinople\"\u001b[0m\n",
      "Observation: \u001b[36;1m\u001b[1;3mJul 11, 2025 · Byzantine sources recount numerous extraordinary events during the siege of Constantinople: an icon believed to work miracles, depicting the Virgin Mary, fell to the ground … May 24, 2025 · The fall of Constantinople sent shockwaves through Christendom. For Muslims, it fulfilled a prophecy attributed to Muhammad about the conquest of the great city. Jul 4, 2025 · Explore the dramatic siege of Constantinople that ended the Byzantine Empire, reshaping history with tactical mastery and political intrigue. Apr 22, 2025 · In 1453, a 21-year-old conqueror named Mehmed II rode his white warhorse through the gates of Constantinople, marking the end of an era and the birth of a new empire. May 29, 2025 · The conquest of Constantinople caused shockwaves throughout Europe. While the Byzantine Empire had been a shadow of its former self for centuries, the loss represented a final …\u001b[0m\n",
      "Thought:\u001b[32;1m\u001b[1;3m This is the information I was looking for\n",
      "Final Answer: The conquest of Constantinople occurred in 1453 when the Ottoman Empire, led by Mehmed II, conquered the city and ended the Byzantine Empire. This event had significant impacts on both the Muslim and Christian worlds.\u001b[0m\n",
      "\n",
      "\u001b[1m> Finished chain.\u001b[0m\n"
     ]
    },
    {
     "name": "stderr",
     "output_type": "stream",
     "text": [
      "c:\\Users\\cinar\\Desktop\\test\\langchain\\venv\\Lib\\site-packages\\langchain_community\\llms\\openai.py:469: PydanticDeprecatedSince20: The `dict` method is deprecated; use `model_dump` instead. Deprecated in Pydantic V2.0 to be removed in V3.0. See Pydantic V2 Migration Guide at https://errors.pydantic.dev/2.11/migration/\n",
      "  response = response.dict()\n"
     ]
    }
   ],
   "source": [
    "response =agent.run(\"İstanbulun fethi ?\")"
   ]
  },
  {
   "cell_type": "code",
   "execution_count": 8,
   "id": "617f4df6",
   "metadata": {},
   "outputs": [],
   "source": [
    "from langchain.tools import Tool\n",
    "from langchain_experimental.tools import PythonREPLTool"
   ]
  },
  {
   "cell_type": "code",
   "execution_count": 9,
   "id": "93d3002f",
   "metadata": {},
   "outputs": [],
   "source": [
    "math_tool=Tool(\n",
    "\n",
    "    name=\"PythonREPL\",\n",
    "    func=PythonREPLTool().run,\n",
    "    description=\"Hesaplama yapar ,Python ifadelerini çözer\"\n",
    "\n",
    "\n",
    ")"
   ]
  },
  {
   "cell_type": "code",
   "execution_count": 10,
   "id": "12cc50e9",
   "metadata": {},
   "outputs": [],
   "source": [
    "agent2=initialize_agent(\n",
    "\n",
    "    tools=[search_tool,math_tool],\n",
    "    llm=llm,\n",
    "    agent=AgentType.ZERO_SHOT_REACT_DESCRIPTION,\n",
    "    verbose=True\n",
    ")"
   ]
  },
  {
   "cell_type": "code",
   "execution_count": 11,
   "id": "5744139c",
   "metadata": {},
   "outputs": [
    {
     "name": "stdout",
     "output_type": "stream",
     "text": [
      "\n",
      "\n",
      "\u001b[1m> Entering new AgentExecutor chain...\u001b[0m\n"
     ]
    },
    {
     "name": "stderr",
     "output_type": "stream",
     "text": [
      "c:\\Users\\cinar\\Desktop\\test\\langchain\\venv\\Lib\\site-packages\\langchain_community\\llms\\openai.py:469: PydanticDeprecatedSince20: The `dict` method is deprecated; use `model_dump` instead. Deprecated in Pydantic V2.0 to be removed in V3.0. See Pydantic V2 Migration Guide at https://errors.pydantic.dev/2.11/migration/\n",
      "  response = response.dict()\n",
      "c:\\Users\\cinar\\Desktop\\test\\langchain\\venv\\Lib\\site-packages\\langchain_community\\utilities\\duckduckgo_search.py:63: RuntimeWarning: This package (`duckduckgo_search`) has been renamed to `ddgs`! Use `pip install ddgs` instead.\n",
      "  with DDGS() as ddgs:\n"
     ]
    },
    {
     "name": "stdout",
     "output_type": "stream",
     "text": [
      "\u001b[32;1m\u001b[1;3m I should use DuckDuckGo Search to find the answer\n",
      "Action: DuckDuckGo Search\n",
      "Action Input: '5' in karesi kaçtır ve TÜRKLER kimdir'\u001b[0m\n",
      "Observation: \u001b[36;1m\u001b[1;3mJul 28, 2025 · 5’in karesi nasıl yazılır? Cevap: Bir sayının karesi, o sayının kendisiyle çarpılmasıyla bulunur. Yani, 5’in karesi, 5 sayısı ile 5 sayısının çarpımı sonucu elde edilir. … Jun 23, 2025 · Karekökü bir tam sayı olan dördüncü pozitif tam sayı, karekökü bir tam sayı olan ve karekökü 4 olan ilk iki basamaklı pozitif tam sayıdır. Karesi 256 sayısına eşittir. Jul 25, 2025 · 5 in küpü 5 in karesinin kaç katıdır. 5’in küpü 5’in karesinin kaç katıdır? Öncelikle burada sorulan matematiksel ifade şu şekildedir: Aradığımız ifade şudur: “5’in küpü, 5’in … Mar 15, 2025 · Sayıların karesi nedir? Cebirde, bir sayının karesi, o sayının kendisiyle çarpılmasıyla elde edilen sayıdır. Kare sayısı x, x² biçiminde yazılır. Eğer x pozitif bir gerçek … Aug 11, 2024 · 5. Sınıf matematik üslü sayılar bir sayının karesi ve küpü konu anlatımı ve örnek sorular. Üslü sayıların açılımı ve karesel sayılar konu özeti ile tekrar yapın.\u001b[0m\n",
      "Thought:"
     ]
    },
    {
     "name": "stderr",
     "output_type": "stream",
     "text": [
      "c:\\Users\\cinar\\Desktop\\test\\langchain\\venv\\Lib\\site-packages\\langchain_community\\llms\\openai.py:469: PydanticDeprecatedSince20: The `dict` method is deprecated; use `model_dump` instead. Deprecated in Pydantic V2.0 to be removed in V3.0. See Pydantic V2 Migration Guide at https://errors.pydantic.dev/2.11/migration/\n",
      "  response = response.dict()\n",
      "c:\\Users\\cinar\\Desktop\\test\\langchain\\venv\\Lib\\site-packages\\langchain_community\\utilities\\duckduckgo_search.py:63: RuntimeWarning: This package (`duckduckgo_search`) has been renamed to `ddgs`! Use `pip install ddgs` instead.\n",
      "  with DDGS() as ddgs:\n"
     ]
    },
    {
     "name": "stdout",
     "output_type": "stream",
     "text": [
      "\u001b[32;1m\u001b[1;3m I should use DuckDuckGo Search again to find information about TÜRKLER\n",
      "Action: DuckDuckGo Search\n",
      "Action Input: 'TÜRKLER kimdir'\u001b[0m\n",
      "Observation: \u001b[36;1m\u001b[1;3mJan 26, 2025 · Türkler, Türkiye’nin en büyük etnik grubunu oluşturan ve genellikle Türkçe konuşan bir topluluğu ifade eder. Ayrıca Azerbaycan, Kırgızistan, Kazakistan ve Özbekistan gibi diğer bazı … Mar 4, 2025 · 16 Türk devleti ve kurucuları kimlerdir? Tarihte bilinen ilk Türk devletleri arasındaki 16 devlet, Türkiye Cumhuriyeti Cumhurbaşkanlığı forsunda yer almasıyla dikkat çeker. Feb 5, 2025 · Türkler, kökleri Avrasya bozkırlarına dayanan kadim bir millettir ve mitolojik olarak Nuh’un oğlu Yafes’e bağlanan bir soy anlatısına sahiptir. Tarihte adı geçen ilk büyük Türk lider, … Nov 14, 2024 · Türklerin etnik kökeni hakkında çeşitli idaalar bulunmaktadır. Jan 29, 2025 · Türkler, genetik olarak Altay ırk ailesine mensuptur ve bu ırk ailesi, genellikle Asya’nın kuzeyinde yer alan Türk boylarını kapsamaktadır. Türklerin genetik özellikleri arasındaki …\u001b[0m\n",
      "Thought:"
     ]
    },
    {
     "name": "stderr",
     "output_type": "stream",
     "text": [
      "c:\\Users\\cinar\\Desktop\\test\\langchain\\venv\\Lib\\site-packages\\langchain_community\\llms\\openai.py:469: PydanticDeprecatedSince20: The `dict` method is deprecated; use `model_dump` instead. Deprecated in Pydantic V2.0 to be removed in V3.0. See Pydantic V2 Migration Guide at https://errors.pydantic.dev/2.11/migration/\n",
      "  response = response.dict()\n",
      "c:\\Users\\cinar\\Desktop\\test\\langchain\\venv\\Lib\\site-packages\\langchain_community\\utilities\\duckduckgo_search.py:63: RuntimeWarning: This package (`duckduckgo_search`) has been renamed to `ddgs`! Use `pip install ddgs` instead.\n",
      "  with DDGS() as ddgs:\n"
     ]
    },
    {
     "name": "stdout",
     "output_type": "stream",
     "text": [
      "\u001b[32;1m\u001b[1;3m I should use DuckDuckGo Search again to find information about TÜRKLER\n",
      "Action: DuckDuckGo Search\n",
      "Action Input: 'TÜRKLER etnik kökeni'\u001b[0m\n",
      "Observation: \u001b[36;1m\u001b[1;3mTürkler veya Türkiye Türkleri, Türkiye ve Kuzey Kıbrıs'ta çoğunluğu oluşturan Türk dilinin farklı ağızlarını konuşan sayıca en kalabalık Türk halkıdır. Sep 29, 2013 · Aslında bu bilgi yakın zamanda ortaya çıkmamıştır. Binlerce yıldır bilinen, Bozkır Türk’lerince efsane olarak babadan oğula anlatılan bir mitdir ve Selçuklu döneminde Anadolu ya … Apr 14, 2020 · Başka dinlerde olan Türklerin sayısı bu büyük çoğunluğa göre pek küçük bir sayıdır. Türkler, İslamiyet’i benimsemede, yaymada ve Hıristiyan dünyasına karşı korumadaki davranışlar … Aug 31, 2024 · Türkler hangi ırka mensup pek çok kişi bilmemektedir. Bu yüzden Türk ırkına dair bilgiler oldukça heyecan vericidir. Türk kavramı ilk olarak Göktürk Devleti ile birlikte anılmıştır. … Tarihte Türkler Büyük Türk İmparatorlukları, Türk Hanlıkları, Türk Atabeylikleri, Anadolu Türk Beylikleri, Türk Devletleri, Dağılan Türk Cumhuriyetleri, Çağdaş Türk Cumhuriyetleri, Özerk Türk …\u001b[0m\n",
      "Thought:\u001b[32;1m\u001b[1;3m I now know the final answer\n",
      "Final Answer: The square of 5 is 25 and TÜRKLER are a Turkic ethnic group primarily living in Turkey and Northern Cyprus. They have a rich history and have been associated with various empires and states throughout history.\u001b[0m\n",
      "\n",
      "\u001b[1m> Finished chain.\u001b[0m\n"
     ]
    },
    {
     "name": "stderr",
     "output_type": "stream",
     "text": [
      "c:\\Users\\cinar\\Desktop\\test\\langchain\\venv\\Lib\\site-packages\\langchain_community\\llms\\openai.py:469: PydanticDeprecatedSince20: The `dict` method is deprecated; use `model_dump` instead. Deprecated in Pydantic V2.0 to be removed in V3.0. See Pydantic V2 Migration Guide at https://errors.pydantic.dev/2.11/migration/\n",
      "  response = response.dict()\n"
     ]
    }
   ],
   "source": [
    "response=agent2.run(\"5' in karesi kaçtır ve TÜRKLER kimdir\")"
   ]
  },
  {
   "cell_type": "code",
   "execution_count": null,
   "id": "14e0bae1",
   "metadata": {},
   "outputs": [],
   "source": []
  }
 ],
 "metadata": {
  "kernelspec": {
   "display_name": "venv",
   "language": "python",
   "name": "python3"
  },
  "language_info": {
   "codemirror_mode": {
    "name": "ipython",
    "version": 3
   },
   "file_extension": ".py",
   "mimetype": "text/x-python",
   "name": "python",
   "nbconvert_exporter": "python",
   "pygments_lexer": "ipython3",
   "version": "3.13.5"
  }
 },
 "nbformat": 4,
 "nbformat_minor": 5
}
